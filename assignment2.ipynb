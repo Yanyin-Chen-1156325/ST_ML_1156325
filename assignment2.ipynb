{
 "cells": [
  {
   "cell_type": "code",
   "execution_count": 2,
   "id": "c7bfb58f",
   "metadata": {},
   "outputs": [],
   "source": [
    "import pandas as pd # Data manipulation and analysis.\n",
    "import numpy as np # Numerical operations and array handling.\n",
    "import matplotlib.pyplot as plt # More control, lower-level, basic plotting.\n",
    "import seaborn as sns # Higher-level, more aesthetically pleasing plots.\n",
    "from scipy import stats # Statistical functions and tests.\n",
    "\n",
    "pd.set_option('display.max_columns', None) # Display all columns in DataFrame output.\n",
    "pd.set_option('display.max_rows', None) # Display all rows in DataFrame output."
   ]
  },
  {
   "cell_type": "markdown",
   "id": "0720d3be",
   "metadata": {},
   "source": [
    "## 1. Data Preprocessing"
   ]
  },
  {
   "cell_type": "markdown",
   "id": "390dcb69",
   "metadata": {},
   "source": [
    "### 1.1 Load Data from Dataset"
   ]
  },
  {
   "cell_type": "code",
   "execution_count": 3,
   "id": "eedb0f54",
   "metadata": {},
   "outputs": [
    {
     "data": {
      "text/html": [
       "<div>\n",
       "<style scoped>\n",
       "    .dataframe tbody tr th:only-of-type {\n",
       "        vertical-align: middle;\n",
       "    }\n",
       "\n",
       "    .dataframe tbody tr th {\n",
       "        vertical-align: top;\n",
       "    }\n",
       "\n",
       "    .dataframe thead th {\n",
       "        text-align: right;\n",
       "    }\n",
       "</style>\n",
       "<table border=\"1\" class=\"dataframe\">\n",
       "  <thead>\n",
       "    <tr style=\"text-align: right;\">\n",
       "      <th></th>\n",
       "      <th>Date/Time</th>\n",
       "      <th>Temp_C</th>\n",
       "      <th>Dew Point Temp_C</th>\n",
       "      <th>Rel Hum_%</th>\n",
       "      <th>Wind Speed_km/h</th>\n",
       "      <th>Visibility_km</th>\n",
       "      <th>Press_kPa</th>\n",
       "      <th>Weather</th>\n",
       "    </tr>\n",
       "  </thead>\n",
       "  <tbody>\n",
       "    <tr>\n",
       "      <th>0</th>\n",
       "      <td>1/1/2012 0:00</td>\n",
       "      <td>-1.8</td>\n",
       "      <td>-3.9</td>\n",
       "      <td>86</td>\n",
       "      <td>4</td>\n",
       "      <td>8.0</td>\n",
       "      <td>101.24</td>\n",
       "      <td>Fog</td>\n",
       "    </tr>\n",
       "    <tr>\n",
       "      <th>1</th>\n",
       "      <td>1/1/2012 1:00</td>\n",
       "      <td>-1.8</td>\n",
       "      <td>-3.7</td>\n",
       "      <td>87</td>\n",
       "      <td>4</td>\n",
       "      <td>8.0</td>\n",
       "      <td>101.24</td>\n",
       "      <td>Fog</td>\n",
       "    </tr>\n",
       "    <tr>\n",
       "      <th>2</th>\n",
       "      <td>1/1/2012 2:00</td>\n",
       "      <td>-1.8</td>\n",
       "      <td>-3.4</td>\n",
       "      <td>89</td>\n",
       "      <td>7</td>\n",
       "      <td>4.0</td>\n",
       "      <td>101.26</td>\n",
       "      <td>Freezing Drizzle,Fog</td>\n",
       "    </tr>\n",
       "    <tr>\n",
       "      <th>3</th>\n",
       "      <td>1/1/2012 3:00</td>\n",
       "      <td>-1.5</td>\n",
       "      <td>-3.2</td>\n",
       "      <td>88</td>\n",
       "      <td>6</td>\n",
       "      <td>4.0</td>\n",
       "      <td>101.27</td>\n",
       "      <td>Freezing Drizzle,Fog</td>\n",
       "    </tr>\n",
       "    <tr>\n",
       "      <th>4</th>\n",
       "      <td>1/1/2012 4:00</td>\n",
       "      <td>-1.5</td>\n",
       "      <td>-3.3</td>\n",
       "      <td>88</td>\n",
       "      <td>7</td>\n",
       "      <td>4.8</td>\n",
       "      <td>101.23</td>\n",
       "      <td>Fog</td>\n",
       "    </tr>\n",
       "  </tbody>\n",
       "</table>\n",
       "</div>"
      ],
      "text/plain": [
       "       Date/Time  Temp_C  Dew Point Temp_C  Rel Hum_%  Wind Speed_km/h  \\\n",
       "0  1/1/2012 0:00    -1.8              -3.9         86                4   \n",
       "1  1/1/2012 1:00    -1.8              -3.7         87                4   \n",
       "2  1/1/2012 2:00    -1.8              -3.4         89                7   \n",
       "3  1/1/2012 3:00    -1.5              -3.2         88                6   \n",
       "4  1/1/2012 4:00    -1.5              -3.3         88                7   \n",
       "\n",
       "   Visibility_km  Press_kPa               Weather  \n",
       "0            8.0     101.24                   Fog  \n",
       "1            8.0     101.24                   Fog  \n",
       "2            4.0     101.26  Freezing Drizzle,Fog  \n",
       "3            4.0     101.27  Freezing Drizzle,Fog  \n",
       "4            4.8     101.23                   Fog  "
      ]
     },
     "execution_count": 3,
     "metadata": {},
     "output_type": "execute_result"
    }
   ],
   "source": [
    "# Load data from dataset\n",
    "df = pd.read_csv('data/Weather_Dataset.csv')\n",
    "\n",
    "# Display the first 5 rows\n",
    "df.head()"
   ]
  },
  {
   "cell_type": "markdown",
   "id": "58053f10",
   "metadata": {},
   "source": [
    "### 1.2 Rename Columns"
   ]
  },
  {
   "cell_type": "code",
   "execution_count": 4,
   "id": "dac00710",
   "metadata": {},
   "outputs": [
    {
     "name": "stdout",
     "output_type": "stream",
     "text": [
      "Renamed columns: ['date_time', 'temperature', 'dew_point_temperature', 'humidity', 'wind_speed', 'visibility', 'pressure', 'weather']\n"
     ]
    }
   ],
   "source": [
    "# Rename columns for consistency\n",
    "# Column names were standardized to lowercase with snake_case formatting for easier use in analysis and modeling.\n",
    "df = df.rename(columns={\n",
    "    \"Date/Time\": \"date_time\",\n",
    "    \"Temp_C\": \"temperature\",\n",
    "    \"Dew Point Temp_C\": \"dew_point_temperature\",\n",
    "    \"Rel Hum_%\": \"humidity\",\n",
    "    \"Wind Speed_km/h\": \"wind_speed\",\n",
    "    \"Visibility_km\": \"visibility\",\n",
    "    \"Press_kPa\": \"pressure\",\n",
    "    \"Weather\": \"weather\"\n",
    "})\n",
    "\n",
    "print(\"Renamed columns:\", df.columns.tolist())"
   ]
  },
  {
   "cell_type": "markdown",
   "id": "0117caf1",
   "metadata": {},
   "source": [
    "### 1.3 Check Basic iInformation of Dataset"
   ]
  },
  {
   "cell_type": "code",
   "execution_count": 5,
   "id": "181c07fb",
   "metadata": {},
   "outputs": [
    {
     "data": {
      "text/plain": [
       "(8784, 8)"
      ]
     },
     "execution_count": 5,
     "metadata": {},
     "output_type": "execute_result"
    }
   ],
   "source": [
    "# The number of rows and columns\n",
    "df.shape"
   ]
  },
  {
   "cell_type": "code",
   "execution_count": 6,
   "id": "4e943fc5",
   "metadata": {},
   "outputs": [
    {
     "name": "stdout",
     "output_type": "stream",
     "text": [
      "<class 'pandas.core.frame.DataFrame'>\n",
      "RangeIndex: 8784 entries, 0 to 8783\n",
      "Data columns (total 8 columns):\n",
      " #   Column                 Non-Null Count  Dtype  \n",
      "---  ------                 --------------  -----  \n",
      " 0   date_time              8784 non-null   object \n",
      " 1   temperature            8784 non-null   float64\n",
      " 2   dew_point_temperature  8784 non-null   float64\n",
      " 3   humidity               8784 non-null   int64  \n",
      " 4   wind_speed             8784 non-null   int64  \n",
      " 5   visibility             8784 non-null   float64\n",
      " 6   pressure               8784 non-null   float64\n",
      " 7   weather                8784 non-null   object \n",
      "dtypes: float64(4), int64(2), object(2)\n",
      "memory usage: 549.1+ KB\n"
     ]
    }
   ],
   "source": [
    "# The information about the DataFrame, including data types and non-null counts\n",
    "df.info()"
   ]
  },
  {
   "cell_type": "code",
   "execution_count": 7,
   "id": "66e09b23",
   "metadata": {},
   "outputs": [
    {
     "data": {
      "text/html": [
       "<div>\n",
       "<style scoped>\n",
       "    .dataframe tbody tr th:only-of-type {\n",
       "        vertical-align: middle;\n",
       "    }\n",
       "\n",
       "    .dataframe tbody tr th {\n",
       "        vertical-align: top;\n",
       "    }\n",
       "\n",
       "    .dataframe thead th {\n",
       "        text-align: right;\n",
       "    }\n",
       "</style>\n",
       "<table border=\"1\" class=\"dataframe\">\n",
       "  <thead>\n",
       "    <tr style=\"text-align: right;\">\n",
       "      <th></th>\n",
       "      <th>count</th>\n",
       "      <th>mean</th>\n",
       "      <th>std</th>\n",
       "      <th>min</th>\n",
       "      <th>25%</th>\n",
       "      <th>50%</th>\n",
       "      <th>75%</th>\n",
       "      <th>max</th>\n",
       "    </tr>\n",
       "  </thead>\n",
       "  <tbody>\n",
       "    <tr>\n",
       "      <th>temperature</th>\n",
       "      <td>8784.0</td>\n",
       "      <td>8.798144</td>\n",
       "      <td>11.687883</td>\n",
       "      <td>-23.30</td>\n",
       "      <td>0.10</td>\n",
       "      <td>9.30</td>\n",
       "      <td>18.80</td>\n",
       "      <td>33.00</td>\n",
       "    </tr>\n",
       "    <tr>\n",
       "      <th>dew_point_temperature</th>\n",
       "      <td>8784.0</td>\n",
       "      <td>2.555294</td>\n",
       "      <td>10.883072</td>\n",
       "      <td>-28.50</td>\n",
       "      <td>-5.90</td>\n",
       "      <td>3.30</td>\n",
       "      <td>11.80</td>\n",
       "      <td>24.40</td>\n",
       "    </tr>\n",
       "    <tr>\n",
       "      <th>humidity</th>\n",
       "      <td>8784.0</td>\n",
       "      <td>67.431694</td>\n",
       "      <td>16.918881</td>\n",
       "      <td>18.00</td>\n",
       "      <td>56.00</td>\n",
       "      <td>68.00</td>\n",
       "      <td>81.00</td>\n",
       "      <td>100.00</td>\n",
       "    </tr>\n",
       "    <tr>\n",
       "      <th>wind_speed</th>\n",
       "      <td>8784.0</td>\n",
       "      <td>14.945469</td>\n",
       "      <td>8.688696</td>\n",
       "      <td>0.00</td>\n",
       "      <td>9.00</td>\n",
       "      <td>13.00</td>\n",
       "      <td>20.00</td>\n",
       "      <td>83.00</td>\n",
       "    </tr>\n",
       "    <tr>\n",
       "      <th>visibility</th>\n",
       "      <td>8784.0</td>\n",
       "      <td>27.664447</td>\n",
       "      <td>12.622688</td>\n",
       "      <td>0.20</td>\n",
       "      <td>24.10</td>\n",
       "      <td>25.00</td>\n",
       "      <td>25.00</td>\n",
       "      <td>48.30</td>\n",
       "    </tr>\n",
       "    <tr>\n",
       "      <th>pressure</th>\n",
       "      <td>8784.0</td>\n",
       "      <td>101.051623</td>\n",
       "      <td>0.844005</td>\n",
       "      <td>97.52</td>\n",
       "      <td>100.56</td>\n",
       "      <td>101.07</td>\n",
       "      <td>101.59</td>\n",
       "      <td>103.65</td>\n",
       "    </tr>\n",
       "  </tbody>\n",
       "</table>\n",
       "</div>"
      ],
      "text/plain": [
       "                        count        mean        std    min     25%     50%  \\\n",
       "temperature            8784.0    8.798144  11.687883 -23.30    0.10    9.30   \n",
       "dew_point_temperature  8784.0    2.555294  10.883072 -28.50   -5.90    3.30   \n",
       "humidity               8784.0   67.431694  16.918881  18.00   56.00   68.00   \n",
       "wind_speed             8784.0   14.945469   8.688696   0.00    9.00   13.00   \n",
       "visibility             8784.0   27.664447  12.622688   0.20   24.10   25.00   \n",
       "pressure               8784.0  101.051623   0.844005  97.52  100.56  101.07   \n",
       "\n",
       "                          75%     max  \n",
       "temperature             18.80   33.00  \n",
       "dew_point_temperature   11.80   24.40  \n",
       "humidity                81.00  100.00  \n",
       "wind_speed              20.00   83.00  \n",
       "visibility              25.00   48.30  \n",
       "pressure               101.59  103.65  "
      ]
     },
     "execution_count": 7,
     "metadata": {},
     "output_type": "execute_result"
    }
   ],
   "source": [
    "# Summary statistics for numerical columns and categorical columns\n",
    "df.describe().transpose()"
   ]
  },
  {
   "cell_type": "markdown",
   "id": "c11c66f5",
   "metadata": {},
   "source": [
    "### 1.4 Handle Duplicates"
   ]
  },
  {
   "cell_type": "code",
   "execution_count": 8,
   "id": "9105b4a1",
   "metadata": {},
   "outputs": [
    {
     "data": {
      "text/plain": [
       "Index(['date_time', 'temperature', 'dew_point_temperature', 'humidity',\n",
       "       'wind_speed', 'visibility', 'pressure', 'weather'],\n",
       "      dtype='object')"
      ]
     },
     "execution_count": 8,
     "metadata": {},
     "output_type": "execute_result"
    }
   ],
   "source": [
    "# Show all column names\n",
    "df.columns"
   ]
  },
  {
   "cell_type": "code",
   "execution_count": 9,
   "id": "f1be76f7",
   "metadata": {},
   "outputs": [
    {
     "name": "stdout",
     "output_type": "stream",
     "text": [
      "Column: date_time\n",
      "Duplicate Count: 0\n",
      "**************************************************\n",
      "Column: temperature\n",
      "Duplicate Count: 8251\n",
      "**************************************************\n",
      "Column: dew_point_temperature\n",
      "Duplicate Count: 8295\n",
      "**************************************************\n",
      "Column: humidity\n",
      "Duplicate Count: 8701\n",
      "**************************************************\n",
      "Column: wind_speed\n",
      "Duplicate Count: 8750\n",
      "**************************************************\n",
      "Column: visibility\n",
      "Duplicate Count: 8760\n",
      "**************************************************\n",
      "Column: pressure\n",
      "Duplicate Count: 8266\n",
      "**************************************************\n",
      "Column: weather\n",
      "Duplicate Count: 8734\n",
      "**************************************************\n"
     ]
    }
   ],
   "source": [
    "# Check duplicates in each column\n",
    "for col in df.columns:\n",
    "    duplicated_count = df[col].duplicated().sum()\n",
    "    print(f\"Column: {col}\")\n",
    "    print(f\"Duplicate Count: {duplicated_count}\")\n",
    "    print(\"*\" * 50)"
   ]
  },
  {
   "cell_type": "code",
   "execution_count": 10,
   "id": "fb194c2a",
   "metadata": {},
   "outputs": [
    {
     "name": "stdout",
     "output_type": "stream",
     "text": [
      "Total duplicate rows (all columns): (0, 8)\n"
     ]
    }
   ],
   "source": [
    "# Check duplicate rows across all columns\n",
    "duplicate_all_cols = df[df.duplicated(keep=False)]\n",
    "print(\"Total duplicate rows (all columns):\", duplicate_all_cols.shape)"
   ]
  },
  {
   "cell_type": "code",
   "execution_count": 11,
   "id": "2d8b7b0a",
   "metadata": {},
   "outputs": [
    {
     "name": "stdout",
     "output_type": "stream",
     "text": [
      "Duplicate rows based on date_time: (0, 8)\n"
     ]
    }
   ],
   "source": [
    "# For time series, duplicates are often in the datetime column\n",
    "duplicate_datetime = df[df.duplicated(subset=['date_time'], keep=False)]\n",
    "print(\"Duplicate rows based on date_time:\", duplicate_datetime.shape)"
   ]
  },
  {
   "cell_type": "markdown",
   "id": "dc941e69",
   "metadata": {},
   "source": [
    "### 1.4.1 Duplicate Check Summary\n",
    "* **Checked duplicates across all columns**: 0 rows duplicated.\n",
    "* **Checked duplicates based on date_time**: 0 rows duplicated.\n",
    "\n",
    "**Conclusion**:\n",
    "\n",
    "No duplicates were found in the dataset, so no removal of duplicates is necessary."
   ]
  },
  {
   "cell_type": "markdown",
   "id": "dea7037c",
   "metadata": {},
   "source": [
    "### 1.5 Handle Irrelavant Data"
   ]
  },
  {
   "cell_type": "code",
   "execution_count": 12,
   "id": "85e14ce1",
   "metadata": {},
   "outputs": [
    {
     "name": "stdout",
     "output_type": "stream",
     "text": [
      "Dropped constant features: []\n"
     ]
    }
   ],
   "source": [
    "# Drop constant features (features with only one unique value)\n",
    "constant_features = [col for col in df.columns if df[col].nunique() == 1]\n",
    "df = df.drop(columns=constant_features)\n",
    "print(\"Dropped constant features:\", constant_features)"
   ]
  },
  {
   "cell_type": "code",
   "execution_count": 13,
   "id": "173662d6",
   "metadata": {},
   "outputs": [
    {
     "name": "stdout",
     "output_type": "stream",
     "text": [
      "Total records 8784\n",
      "**************************************************\n"
     ]
    }
   ],
   "source": [
    "# Columns with mostly missing values (e.g., more than x% missing)\n",
    "threshold = 5\n",
    "print(f\"Total records {df.shape[0]}\")\n",
    "print(\"*\"* 50)\n",
    "for col in df.columns:\n",
    "    missing_count = df[col].isnull().sum()\n",
    "    missing_ratio = (missing_count / df.shape[0]) * 100\n",
    "    if missing_ratio > threshold:\n",
    "        print(f\"Column: {col} has {missing_count} missing values ({missing_ratio:.2f}%)\")\n",
    "        print(\"*\" * 50)"
   ]
  },
  {
   "cell_type": "code",
   "execution_count": 14,
   "id": "1b08f999",
   "metadata": {},
   "outputs": [
    {
     "name": "stdout",
     "output_type": "stream",
     "text": [
      "Dropped columns with more than 5 % missing values: []\n"
     ]
    }
   ],
   "source": [
    "# Drop columns with excessive missing values\n",
    "columns_to_drop = [col for col in df.columns if (df[col].isnull().sum() / df.shape[0]) * 100 > threshold]\n",
    "df = df.drop(columns=columns_to_drop)\n",
    "print(\"Dropped columns with more than\", threshold, \"% missing values:\", columns_to_drop)"
   ]
  },
  {
   "cell_type": "markdown",
   "id": "3e4ad4dc",
   "metadata": {},
   "source": [
    "### 1.5.1 Irrelevant Data Summary\n",
    "* **Dropped constant features**: no constant columns found.\n",
    "* **Dropped columns with more than 5% missing values**: all columns have acceptable completeness.\n",
    "\n",
    "**Conclusion**:\n",
    "\n",
    "No irrelevant columns were removed, so the dataset is already clean in terms of constant features and mostly-missing columns."
   ]
  },
  {
   "cell_type": "markdown",
   "id": "e811bbee",
   "metadata": {},
   "source": [
    "### 1.6 Handle Missing Values"
   ]
  },
  {
   "cell_type": "code",
   "execution_count": 16,
   "id": "a0da32f6",
   "metadata": {},
   "outputs": [
    {
     "data": {
      "text/plain": [
       "(0, 8)"
      ]
     },
     "execution_count": 16,
     "metadata": {},
     "output_type": "execute_result"
    }
   ],
   "source": [
    "# Check which rows/columns have missing data\n",
    "df_missing_data = df[df.isnull().any(axis=1)]\n",
    "df_missing_data.shape"
   ]
  },
  {
   "cell_type": "code",
   "execution_count": 17,
   "id": "ff8a4bed",
   "metadata": {},
   "outputs": [
    {
     "data": {
      "text/html": [
       "<div>\n",
       "<style scoped>\n",
       "    .dataframe tbody tr th:only-of-type {\n",
       "        vertical-align: middle;\n",
       "    }\n",
       "\n",
       "    .dataframe tbody tr th {\n",
       "        vertical-align: top;\n",
       "    }\n",
       "\n",
       "    .dataframe thead th {\n",
       "        text-align: right;\n",
       "    }\n",
       "</style>\n",
       "<table border=\"1\" class=\"dataframe\">\n",
       "  <thead>\n",
       "    <tr style=\"text-align: right;\">\n",
       "      <th></th>\n",
       "      <th>date_time</th>\n",
       "      <th>temperature</th>\n",
       "      <th>dew_point_temperature</th>\n",
       "      <th>humidity</th>\n",
       "      <th>wind_speed</th>\n",
       "      <th>visibility</th>\n",
       "      <th>pressure</th>\n",
       "      <th>weather</th>\n",
       "    </tr>\n",
       "  </thead>\n",
       "  <tbody>\n",
       "  </tbody>\n",
       "</table>\n",
       "</div>"
      ],
      "text/plain": [
       "Empty DataFrame\n",
       "Columns: [date_time, temperature, dew_point_temperature, humidity, wind_speed, visibility, pressure, weather]\n",
       "Index: []"
      ]
     },
     "execution_count": 17,
     "metadata": {},
     "output_type": "execute_result"
    }
   ],
   "source": [
    "# Display the last few rows with missing data\n",
    "df_missing_data.tail()"
   ]
  },
  {
   "cell_type": "code",
   "execution_count": 18,
   "id": "0dada3b6",
   "metadata": {},
   "outputs": [
    {
     "name": "stdout",
     "output_type": "stream",
     "text": [
      "Numerical columns: Index(['temperature', 'dew_point_temperature', 'humidity', 'wind_speed',\n",
      "       'visibility', 'pressure'],\n",
      "      dtype='object')\n",
      "Categorical columns: Index(['date_time', 'weather'], dtype='object')\n"
     ]
    }
   ],
   "source": [
    "# Identify numerical and categorical columns.\n",
    "numerical_columns = df.select_dtypes(include=[np.number]).columns\n",
    "categorical_columns = df.select_dtypes(include=['object', 'category']).columns\n",
    "print(\"Numerical columns:\", numerical_columns)\n",
    "print(\"Categorical columns:\", categorical_columns)"
   ]
  },
  {
   "cell_type": "code",
   "execution_count": 19,
   "id": "d45904d1",
   "metadata": {},
   "outputs": [
    {
     "name": "stdout",
     "output_type": "stream",
     "text": [
      "Numerical columns with missing values: []\n"
     ]
    }
   ],
   "source": [
    "# Get the list of columns with missing values for numerical columns.\n",
    "missing_numerical_columns = df[numerical_columns].isnull().any()\n",
    "missing_numerical_columns = missing_numerical_columns[missing_numerical_columns].index\n",
    "print(\"Numerical columns with missing values:\", missing_numerical_columns.tolist())\n"
   ]
  },
  {
   "cell_type": "code",
   "execution_count": 20,
   "id": "72f5a877",
   "metadata": {},
   "outputs": [
    {
     "name": "stdout",
     "output_type": "stream",
     "text": [
      "Categorical columns with missing values: []\n"
     ]
    }
   ],
   "source": [
    "# Get the list of columns with missing values only for categorical columns.\n",
    "missing_categorical_columns = df[categorical_columns].isnull().any()\n",
    "missing_categorical_columns = missing_categorical_columns[missing_categorical_columns].index\n",
    "print(\"Categorical columns with missing values:\", missing_categorical_columns.tolist())"
   ]
  },
  {
   "cell_type": "markdown",
   "id": "6004c5ee",
   "metadata": {},
   "source": [
    "### 1.6.1 Missing Values Summary\n",
    "* **Numerical columns with missing values**: no missing values found.\n",
    "* **Categorical columns with missing values**: no missing values found.\n",
    "\n",
    "**Conclusion**:\n",
    "\n",
    "No missing values were found in the dataset, so no handling of missing data is necessary."
   ]
  },
  {
   "cell_type": "markdown",
   "id": "16969c65",
   "metadata": {},
   "source": [
    "### 1.7 Handle outliers"
   ]
  },
  {
   "cell_type": "code",
   "execution_count": 21,
   "id": "877bac85",
   "metadata": {},
   "outputs": [
    {
     "name": "stdout",
     "output_type": "stream",
     "text": [
      "\n",
      "humidity - No extreme values found.\n",
      "\n",
      "wind_speed - No extreme values found.\n",
      "\n",
      "visibility - No extreme values found.\n",
      "\n",
      "pressure - No extreme values found.\n"
     ]
    },
    {
     "data": {
      "text/html": [
       "<div>\n",
       "<style scoped>\n",
       "    .dataframe tbody tr th:only-of-type {\n",
       "        vertical-align: middle;\n",
       "    }\n",
       "\n",
       "    .dataframe tbody tr th {\n",
       "        vertical-align: top;\n",
       "    }\n",
       "\n",
       "    .dataframe thead th {\n",
       "        text-align: right;\n",
       "    }\n",
       "</style>\n",
       "<table border=\"1\" class=\"dataframe\">\n",
       "  <thead>\n",
       "    <tr style=\"text-align: right;\">\n",
       "      <th></th>\n",
       "      <th>Feature</th>\n",
       "      <th>Lower Limit</th>\n",
       "      <th>Upper Limit</th>\n",
       "      <th>Outliers</th>\n",
       "    </tr>\n",
       "  </thead>\n",
       "  <tbody>\n",
       "    <tr>\n",
       "      <th>0</th>\n",
       "      <td>temperature</td>\n",
       "      <td>-27.95</td>\n",
       "      <td>46.85</td>\n",
       "      <td>0</td>\n",
       "    </tr>\n",
       "    <tr>\n",
       "      <th>1</th>\n",
       "      <td>dew_point_temperature</td>\n",
       "      <td>-32.45</td>\n",
       "      <td>38.35</td>\n",
       "      <td>0</td>\n",
       "    </tr>\n",
       "    <tr>\n",
       "      <th>2</th>\n",
       "      <td>humidity</td>\n",
       "      <td>18.50</td>\n",
       "      <td>118.50</td>\n",
       "      <td>2</td>\n",
       "    </tr>\n",
       "    <tr>\n",
       "      <th>3</th>\n",
       "      <td>wind_speed</td>\n",
       "      <td>-7.50</td>\n",
       "      <td>36.50</td>\n",
       "      <td>162</td>\n",
       "    </tr>\n",
       "    <tr>\n",
       "      <th>4</th>\n",
       "      <td>visibility</td>\n",
       "      <td>22.75</td>\n",
       "      <td>26.35</td>\n",
       "      <td>3539</td>\n",
       "    </tr>\n",
       "    <tr>\n",
       "      <th>5</th>\n",
       "      <td>pressure</td>\n",
       "      <td>99.02</td>\n",
       "      <td>103.14</td>\n",
       "      <td>207</td>\n",
       "    </tr>\n",
       "  </tbody>\n",
       "</table>\n",
       "</div>"
      ],
      "text/plain": [
       "                 Feature  Lower Limit  Upper Limit  Outliers\n",
       "0            temperature       -27.95        46.85         0\n",
       "1  dew_point_temperature       -32.45        38.35         0\n",
       "2               humidity        18.50       118.50         2\n",
       "3             wind_speed        -7.50        36.50       162\n",
       "4             visibility        22.75        26.35      3539\n",
       "5               pressure        99.02       103.14       207"
      ]
     },
     "metadata": {},
     "output_type": "display_data"
    }
   ],
   "source": [
    "# Apply physical bound for weather-related features\n",
    "# Define bounds\n",
    "bounds = {\n",
    "    \"humidity\": (0, 100),\n",
    "    \"wind_speed\": (0, None),\n",
    "    \"visibility\": (0, None),\n",
    "    \"pressure\": (85, 110)\n",
    "}\n",
    "\n",
    "# Check and print rows that violate bounds\n",
    "for col, (low, high) in bounds.items():\n",
    "    invalid = df.copy()\n",
    "    if low is not None:\n",
    "        invalid = invalid[invalid[col] < low]\n",
    "    if high is not None:\n",
    "        invalid = pd.concat([invalid, df[df[col] > high]])\n",
    "\n",
    "    if not invalid.empty:\n",
    "        print(f\"\\n{col} - Extreme values outside bounds:\")\n",
    "        print(invalid[[col]].head(10))  # show first 10 rows only\n",
    "        print(f\"Total extreme values in {col}: {len(invalid)}\")\n",
    "    else:\n",
    "        print(f\"\\n{col} - No extreme values found.\")\n",
    "\n",
    "# Apply clipping after inspection\n",
    "df[\"humidity\"] = df[\"humidity\"].clip(lower=0, upper=100)\n",
    "df[\"wind_speed\"] = df[\"wind_speed\"].clip(lower=0)\n",
    "df[\"visibility\"] = df[\"visibility\"].clip(lower=0)\n",
    "df[\"pressure\"] = df[\"pressure\"].clip(lower=85, upper=110)\n",
    "\n",
    "# Check outliers using IQR\n",
    "numeric_features = numerical_columns\n",
    "def find_outliers_IQR_method(input_df, variable):\n",
    "    IQR = input_df[variable].quantile(0.75) - input_df[variable].quantile(0.25)\n",
    "    lower_limit = input_df[variable].quantile(0.25) - (IQR*1.5)\n",
    "    upper_limit = input_df[variable].quantile(0.75) + (IQR*1.5)\n",
    "    outliers = input_df[(input_df[variable] < lower_limit) | (input_df[variable] > upper_limit)]\n",
    "    return outliers.shape[0], lower_limit, upper_limit\n",
    "\n",
    "results = []\n",
    "for feature in numeric_features:\n",
    "    outlier_count, lower, upper = find_outliers_IQR_method(df, feature)\n",
    "    results.append([feature, round(lower,2), round(upper,2), outlier_count])\n",
    "\n",
    "# Convert to DataFrame\n",
    "outlier_summary = pd.DataFrame(results, columns=[\"Feature\", \"Lower Limit\", \"Upper Limit\", \"Outliers\"])\n",
    "\n",
    "# Display summary\n",
    "display(outlier_summary)\n"
   ]
  },
  {
   "cell_type": "code",
   "execution_count": 22,
   "id": "4764fc53",
   "metadata": {},
   "outputs": [
    {
     "name": "stdout",
     "output_type": "stream",
     "text": [
      "temperature: Outliers detected by Z-score (>3): 0\n",
      "dew_point_temperature: Outliers detected by Z-score (>3): 0\n",
      "humidity: Outliers detected by Z-score (>3): 0\n",
      "wind_speed: Outliers detected by Z-score (>3): 71\n",
      "visibility: Outliers detected by Z-score (>3): 0\n",
      "pressure: Outliers detected by Z-score (>3): 61\n"
     ]
    }
   ],
   "source": [
    "zscore_summary = {}\n",
    "for feature in numeric_features:\n",
    "    z_scores = np.abs(stats.zscore(df[feature].dropna()))\n",
    "    outliers = (z_scores > 3).sum()\n",
    "    zscore_summary[feature] = outliers\n",
    "    print(f\"{feature}: Outliers detected by Z-score (>3): {outliers}\")\n",
    "\n",
    "# Remove outliers only for temperature and pressure\n",
    "df_z_cleaned = df.copy()\n",
    "for feature in [\"temperature\", \"pressure\"]:\n",
    "    z_scores = np.abs(stats.zscore(df_z_cleaned[feature].dropna()))\n",
    "    df_z_cleaned = df_z_cleaned.loc[z_scores < 3]"
   ]
  },
  {
   "cell_type": "code",
   "execution_count": 23,
   "id": "2f98da72",
   "metadata": {},
   "outputs": [
    {
     "name": "stdout",
     "output_type": "stream",
     "text": [
      "Z-score cleaned dataset (temperature): (8784, 8)\n",
      "Outliers detected: 0\n"
     ]
    },
    {
     "data": {
      "image/png": "[encoded data removed]",
      "text/plain": [
       "<Figure size 1600x600 with 2 Axes>"
      ]
     },
     "metadata": {},
     "output_type": "display_data"
    },
    {
     "name": "stdout",
     "output_type": "stream",
     "text": [
      "Z-score cleaned dataset (pressure): (8723, 8)\n",
      "Outliers detected: 61\n"
     ]
    },
    {
     "data": {
      "image/png": "[encoded data removed]",
      "text/plain": [
       "<Figure size 1600x600 with 2 Axes>"
      ]
     },
     "metadata": {},
     "output_type": "display_data"
    }
   ],
   "source": [
    "# 2. Check outliers using Z-score\n",
    "features = ['temperature', 'pressure']\n",
    "for feature in features:\n",
    "    z_scores = np.abs(stats.zscore(df[feature].dropna()))\n",
    "    df_z_cleaned = df[z_scores < 3]\n",
    "\n",
    "    print(f\"Z-score cleaned dataset ({feature}): {df_z_cleaned.shape}\")\n",
    "    print(f\"Outliers detected: {len(df) - len(df_z_cleaned)}\")\n",
    "\n",
    "    # Probability plots for before/after\n",
    "    sns.set_style('whitegrid')\n",
    "    plt.figure(figsize=(16,6))\n",
    "\n",
    "    plt.subplot(1, 2, 1)\n",
    "    stats.probplot(df[feature].dropna(), plot=plt)\n",
    "    plt.title(f\"Before Outlier Handling ({feature})\")\n",
    "\n",
    "    plt.subplot(1, 2, 2)\n",
    "    stats.probplot(df_z_cleaned[feature].dropna(), plot=plt)\n",
    "    plt.title(f\"After Outlier Handling ({feature})\")\n",
    "\n",
    "    plt.show()"
   ]
  },
  {
   "cell_type": "markdown",
   "id": "a93c3d55",
   "metadata": {},
   "source": [
    "### 1.7.1 Outlier Explanation\n",
    "Outliers in weather data need to be treated carefully, because extreme values may represent important weather phenomena rather than errors.\n",
    "I applied physical bounds to correct impossible values (e.g., humidity >100%, negative wind speed).\n",
    "IQR and Z-score methods were then used to inspect potential outliers. However, in weather data, many “outliers” (such as low visibility, high wind speed, or low pressure) actually represent real weather events like storms or fog. Therefore, we did not remove these values but retained them for further analysis.\n",
    "Z-score was applied only to temperature and pressure to filter unrealistic sensor errors.\n",
    "\n",
    "### 1.7.2 Outliers Summary\n",
    "* **Physical bounds check**: No invalid values were found for humidity, wind speed, visibility, or pressure. All values were within the specified realistic ranges (0–100% humidity, non-negative wind speed and visibility, 85–110 kPa pressure).\n",
    "* **IQR method**: The method flagged 2 humidity values, 162 wind speed values, 3539 visibility values, and 207 pressure values as outliers. However, many of these represent real weather events (e.g., fog, storms, low pressure) rather than errors, so they were not removed.\n",
    "* **Z-score method**: Applied to temperature and pressure. No temperature outliers were found. For pressure, 61 outliers were detected and removed as they were unrealistic compared to the normal distribution of values.\n",
    "\n",
    "**Conclusion:**\n",
    "\n",
    "Physical bounds were applied to ensure no impossible values exist. IQR and Z-score methods were used for inspection. Outliers caused by genuine weather phenomena (e.g., high wind speed, low visibility) were retained, while clearly unrealistic values in pressure were removed.\n"
   ]
  },
  {
   "cell_type": "markdown",
   "id": "4a3f30bf",
   "metadata": {},
   "source": [
    "## 2. Explore Data Analysis"
   ]
  }
 ],
 "metadata": {
  "kernelspec": {
   "display_name": "Python (ST_ml_env)",
   "language": "python",
   "name": "st_ml_env"
  },
  "language_info": {
   "codemirror_mode": {
    "name": "ipython",
    "version": 3
   },
   "file_extension": ".py",
   "mimetype": "text/x-python",
   "name": "python",
   "nbconvert_exporter": "python",
   "pygments_lexer": "ipython3",
   "version": "3.11.7"
  }
 },
 "nbformat": 4,
 "nbformat_minor": 5
}
